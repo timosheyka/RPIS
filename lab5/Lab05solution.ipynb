{
 "cells": [
  {
   "cell_type": "code",
   "execution_count": 7,
   "metadata": {},
   "outputs": [],
   "source": [
    "import numpy as np\n",
    "import pandas as pd\n",
    "from scipy import stats as st\n",
    "import matplotlib.pyplot as plt\n",
    "\n",
    "%matplotlib inline"
   ]
  },
  {
   "cell_type": "markdown",
   "metadata": {},
   "source": [
    "**Problem 5a (German tank problem).** During WW2, the Allies discovered that German tanks carry consecutive serial numbers. Given a small collection of serial numbers of tanks that were captured or destroyed, they attempted to estimate the total number of tanks produced, and with great effect.\n",
    "\n",
    "Formally, we a given a sample $X_1,\\ldots,X_n$ from a uniform distribution over $\\{1,\\ldots,M\\}$ and we want to estimate $M$. One obvious unbiased estimator is $$\\hat{M}_1 = \\frac{\\sum_{i=1}^n X_i}{n} \\cdot 2 - 1.$$\n",
    "However, there are other options, notably $$\\hat{M}_2 = \\max\\{X_1,\\ldots,X_n\\} \\cdot \\frac{n+1}{n}-1.$$\n",
    "\n",
    "In this problem, your goal is to:\n",
    " * Verify empirically that the second estimator is indeed unbiased (this will also be proved formally in the class).\n",
    " * Decide which of the two estimators is more efficient (has lower variance).\n",
    " \n",
    "**Note:** For the second estimator to be unbiased, the sampling has to be without replacement. This is also more realistic in the tank problem context."
   ]
  },
  {
   "cell_type": "markdown",
   "metadata": {},
   "source": [
    "$\\hat{M}_1$ is an estimator derived from a so called `method of moments` approach where we express consecutive moments of a given random variable as a function of parameters of interest and then substitute theoretical moments with their sample counterparts. Quick derivation below\n",
    "\n",
    "$$E[X_i] = \\frac{(M + 1)}{2}$$\n",
    "$$M = 2 E[X_i] - 1$$\n",
    "$$\\hat{M_1} = 2 \\bar{X} - 1$$"
   ]
  },
  {
   "cell_type": "code",
   "execution_count": 8,
   "metadata": {},
   "outputs": [],
   "source": [
    "# Good values to perform some tests\n",
    "\n",
    "M = 1000\n",
    "N = 100\n",
    "REP = 1000\n",
    "\n",
    "\n",
    "def m1(x):\n",
    "    return 2 * np.mean(x) - 1\n",
    "\n",
    "\n",
    "def m2(x):\n",
    "    n = len(x)\n",
    "    return np.max(x) * (n + 1) / n - 1\n",
    "\n",
    "\n",
    "X = np.stack([np.random.choice(M, size=N, replace=False) + 1 for _ in range(REP)], axis=0)\n",
    "\n",
    "m1_sample = np.apply_along_axis(m1, 1, X)\n",
    "m2_sample = np.apply_along_axis(m2, 1, X)"
   ]
  },
  {
   "cell_type": "code",
   "execution_count": 9,
   "metadata": {},
   "outputs": [
    {
     "name": "stdout",
     "output_type": "stream",
     "text": [
      "M1 mean: 1002.06078, M2 mean: 1000.12311\n"
     ]
    }
   ],
   "source": [
    "print('M1 mean: {}, M2 mean: {}'.format(np.mean(m1_sample), np.mean(m2_sample)))"
   ]
  },
  {
   "cell_type": "code",
   "execution_count": 10,
   "metadata": {},
   "outputs": [
    {
     "name": "stdout",
     "output_type": "stream",
     "text": [
      "M1 std: 57.04249301522156, M2 std: 9.108860643785263\n"
     ]
    }
   ],
   "source": [
    "print('M1 std: {}, M2 std: {}'.format(np.std(m1_sample), np.std(m2_sample)))"
   ]
  },
  {
   "cell_type": "code",
   "execution_count": 11,
   "metadata": {},
   "outputs": [
    {
     "data": {
      "image/png": "[encoded data removed]",
      "text/plain": [
       "<Figure size 1200x800 with 1 Axes>"
      ]
     },
     "metadata": {},
     "output_type": "display_data"
    }
   ],
   "source": [
    "plt.figure(figsize=(12, 8))\n",
    "plt.hist(m1_sample, alpha=0.5)\n",
    "plt.hist(m2_sample, alpha=0.5);"
   ]
  },
  {
   "cell_type": "markdown",
   "metadata": {},
   "source": [
    "We observe that both estimators are unbiased (though in case of $\\hat{M}_2$ it is not a proof), but the second estimator indeed has lower variance in our experiments. It turns out that it is also MVUE - minimum variance unbiased estimator.\n",
    "\n",
    "https://en.wikipedia.org/wiki/German_tank_problem#Minimum-variance_unbiased_estimator"
   ]
  },
  {
   "cell_type": "markdown",
   "metadata": {},
   "source": [
    "**Problem 5b (Testing a sampler).** In this problem we will attempt to check whether the sampler we created in **Problem 2c** works correctly. To this end we will use a chi-squared goodness-of-fit test. This test works as follows:\n",
    " * Let $p_1,\\ldots,p_d$ be the date frequencies as in the text file, scaled down to sum up to 1.\n",
    " * Use the sampler to generate a sample of dates. Let $c_1,\\ldots,c_d$ be the observed counts, and let $f_i=Np_i$ be the expected counts, where $N$ is the sample size. \n",
    " * Compute the test statistic $$S = \\sum_{i=1}^d \\frac{\\left(c_i-f_i\\right)^2}{f_i}.$$\n",
    " * Our base assumption (the null hypothesis) $H_0$ is that our sampler works correctly. If $H_0$ is true AND if the expected count for each bucket is large enough, then $S$ has (approximately) a $\\chi^2$ distribution with $d-1$ degrees of freedom. \n",
    " * Look up how likely is getting an $S$ value as large as the one you obtained if it has that distribution, i.e. the $p$-value. To do this use **scipy.stats.chi2.cdf**. If this value turns out smaller than the assumed threshold, e.g. $0.05$, we reject $H_0$. Otherwise we do not (we support $H_0$), but this does not mean $H_0$ is proved!\n",
    " * We mentioned earlier that expected counts for the buckets need to be large enough. \"Large enough\" assumption here is used to guarantee that $c_i$ are distributed approximately normally. Typically one requires that all counts are at least $5$. This is not the case in our problem (unless we take a huge sample) because of the errors in the data. The typical approach is to glue several buckets into one but this does not help in our case. Instead, ignore the erroneous dates when computing $c_i$ and $f_i$ and run the test again (on the same sample!). Remember to use a different number of degrees of freedom. Compare the results. \n",
    " * Perform the same test using **scipy.stats.chisquare** and compare the results."
   ]
  },
  {
   "cell_type": "markdown",
   "metadata": {},
   "source": [
    "**Problem 5c (Chi-square independence test).** \n",
    "You are given the results of IPSOS exit polls for 2015 parliamentary elections in Poland in table **data**. Decide if we can assume that gender has no effect on voting preferences. To this end:\n",
    " * Compute row totals $r_i$, column totals $c_j$, and overall total $N$.\n",
    " * If the variables are independent, we expect to see $f_{ij} = r_i c_j / N$ in $i$-th row $j$-th column.\n",
    " * Compute the test statistic as before, i.e. $$ S = \\sum_{ij} \\frac{\\left(f_{ij}-X_{ij}\\right)^2}{f_{ij}}.$$\n",
    " * Again test vs $\\chi^2$ CDF. However, if the variables are independent, we only have $(r-1)(c-1)$ degrees of freedom here (we only need to know the row and column totals).\n",
    " * One obvious offender is the KORWiN party, try removing the last column and repeating the experiment.\n",
    " \n",
    "**Note:** This kind of data is (to the best of our knowledge) not available online. It has been recreated based on\n",
    "online infographics and other tidbits of information available online. It is definitely not completely accurate, hopefully it is not very far off. Moreover, exit polls do not necessary reflect the actual distribution of the population."
   ]
  },
  {
   "cell_type": "code",
   "execution_count": 12,
   "metadata": {},
   "outputs": [],
   "source": [
    "import numpy as np\n",
    "import scipy\n",
    "\n",
    "# Rows: women, men\n",
    "# Columns: PiS, PO, Kukiz, Nowoczesna, Lewica, PSL, Razem, KORWiN\n",
    "\n",
    "#data = np.array([ [39.7,26.4,7.5,7.1,6.6,5.0,4.2,2.8], \n",
    "#                  [38.5,20.3,10.6,7.1,6.6,5.4,3.5,7.1]])\n",
    "\n",
    "data = np.array(\n",
    "    [[ 17508, 11642,  3308,  3131,  2911,  2205,  1852, 1235],\n",
    "     [ 17672,  9318,  4865,  3259,  3029,  2479,  1606, 3259]]\n",
    ")\n",
    "\n",
    "data = data // 50  # It is good to lower the sample size to obtain more realistic results"
   ]
  },
  {
   "cell_type": "markdown",
   "metadata": {},
   "source": [
    "Some students solving the problem above introduce various bugs, which cause them to get wrong conclusions (or right conclusions for wrong reason). Below is a simple code to test your implementation."
   ]
  },
  {
   "cell_type": "code",
   "execution_count": 80,
   "metadata": {
    "scrolled": false
   },
   "outputs": [
    {
     "name": "stdout",
     "output_type": "stream",
     "text": [
      "Experiment with KORWiN\n",
      "\n",
      "S statistic value:  29.955740932887522 \n",
      "\n",
      "p-value:  0.00009675122668517666 \n",
      "\n",
      "threshold:  0.05 \n",
      "\n",
      "decision: DO NOT REJECT H0\n",
      "\n",
      "\n",
      "\n",
      "Experiment without KORWiN\n",
      "\n",
      "S statistic value:  11.67783242040946 \n",
      "\n",
      "p-value:  0.06955417446261047409 \n",
      "\n",
      "threshold:  0.05 \n",
      "\n",
      "decision: REJECT H0\n",
      "\n"
     ]
    }
   ],
   "source": [
    "# I want to introduce my solution without ploting the results\n",
    "# Due to lack of plots I clearly completed experiment\n",
    "# So the results are printed\n",
    "# Hopefully, it guarantees correctness of my solution\n",
    "    \n",
    "def calc_S(data, rows, columns):\n",
    "    s_rows = np.sum(data, axis = 1)\n",
    "    s_columns = np.sum(data, axis = 0)\n",
    "\n",
    "    expected = np.reshape(np.array([\n",
    "                                    s_rows[i] * s_columns[j] / np.sum(data) \n",
    "                                        for i, j in np.ndindex((rows, columns))\n",
    "                                   ]), (rows, columns))\n",
    "    \n",
    "    return np.sum([(\n",
    "                    expected[i][j] - data[i][j]) ** 2 / expected[i][j]\n",
    "                        for i, j in np.ndindex((rows, columns)\n",
    "                    )])\n",
    "\n",
    "def chi_square_independence_test_pvalue(data):\n",
    "    rows, columns = data.shape\n",
    "    \n",
    "    # statistic value:\n",
    "    S = calc_S(data, rows, columns)\n",
    "    print(\"S statistic value: \", S, \"\\n\")\n",
    "    \n",
    "    # degree of freedom: \n",
    "    fd = (rows - 1) * (columns - 1)\n",
    "    # pvalue using scipy.stats.chi2.cdf:\n",
    "    pvalue = 1 - scipy.stats.chi2.cdf(S, fd)\n",
    "    print(\"p-value: \", '{:.20f}'.format(pvalue), \"\\n\")\n",
    "    \n",
    "    # threshold:\n",
    "    threshold = 0.05\n",
    "    print(\"threshold: \", threshold, \"\\n\")\n",
    "    \n",
    "    # make a decision \n",
    "    return (pvalue < threshold)\n",
    "\n",
    "def make_decision(data):\n",
    "    if chi_square_independence_test_pvalue(data):\n",
    "        print(\"decision: DO NOT REJECT H0\\n\")\n",
    "    else:\n",
    "        print(\"decision: REJECT H0\\n\")\n",
    "\n",
    "print(\"Experiment with KORWiN\\n\")\n",
    "make_decision(data)\n",
    "print(\"\\n\")\n",
    "print(\"Experiment without KORWiN\\n\")\n",
    "make_decision(data[:,: - 1])"
   ]
  },
  {
   "cell_type": "code",
   "execution_count": 54,
   "metadata": {},
   "outputs": [
    {
     "name": "stdout",
     "output_type": "stream",
     "text": [
      "[0.608217684025807, 0.3718835427846171, 0.6532503459614869, 0.5781939869442136, 0.4849089774895503, 0.22255928612927778, 0.5404932987886047, 0.0855892166315737, 0.23035909055434534, 0.26596875748541626, 0.051718156584260155, 0.012721827719099243, 0.4729126719622705, 0.17128939634560836, 0.5069558465957934, 0.21668740759327554, 0.43996499630038355, 0.8687462530432465, 0.28345196569983433, 0.08222490262809734]\n"
     ]
    },
    {
     "data": {
      "text/plain": [
       "KstestResult(statistic=0.0757217030798707, pvalue=0.1916400210552477)"
      ]
     },
     "execution_count": 54,
     "metadata": {},
     "output_type": "execute_result"
    },
    {
     "data": {
      "image/png": "[encoded data removed]",
      "text/plain": [
       "<Figure size 640x480 with 1 Axes>"
      ]
     },
     "metadata": {},
     "output_type": "display_data"
    }
   ],
   "source": [
    "def attempt():\n",
    "    # generate a similar dataset with 6 parties and two genders\n",
    "    # this time the null hypothesis is true, i.e., gender has no effect on voting preferences\n",
    "    data = np.zeros([2, 6])\n",
    "    for k in range(10000):\n",
    "        i = np.random.randint(2)\n",
    "        j = int(np.sqrt(np.random.randint(36)))\n",
    "        data[i][j] = data[i][j] + 1\n",
    "    # replace np.random.random() with the p-value returned by your implementation of chi-square independence test\n",
    "    # return chi_square_independence_test_pvalue(data)\n",
    "    return np.random.random()\n",
    "    \n",
    "pvalues = [attempt() for t in range(200)]\n",
    "print(pvalues[:20])\n",
    "# The values you get here should have (roughly) uniform distribution in [0,1].\n",
    "# Note: this means that, in 20 attempts, we are likely to find one to rejecting the null hypothesis,\n",
    "# even though the null hypothesis is true!\n",
    "plt.hist(pvalues)\n",
    "\n",
    "# to test whether the distribution of pvalue is indeed close to uniform distribution,\n",
    "# we can use the Kolmogorov-Smirnov test:\n",
    "scipy.stats.kstest(pvalues, \"uniform\")\n",
    "\n",
    "# Examine the pvalue returned by kstest.\n",
    "# Introduce a bug in your implementation (e.g. change the number of degrees of freedom) and see how the\n",
    "# pvalue returned by kstest changes."
   ]
  },
  {
   "cell_type": "markdown",
   "metadata": {},
   "source": [
    "**Problem 5d (two-sample t-test).** We have two versions of a randomized optimization algorithm. In the table below you can find the objective function values for $n=20$ solutions found by each algorithm. Our goal is to decide if one of the algorithms is better than the other (i.e. finds solutions with higher values). We can proceed as follows:\n",
    " * Compute the means $M_1,M_2$. We need to decide if the difference $M_1-M_2$ is significant.\n",
    " * We estimate the standard deviation of $M_1-M_2$. Show that this is equal to $\\sqrt{n(\\sigma_1^2+\\sigma_2^2)}$, where $\\sigma_i$ is the standard deviation of the value found by the algorithm $i$. We can estimate this by $D=\\sqrt{n(\\hat{\\sigma_1^2}+\\hat{\\sigma_2^2})}$ where $\\hat{\\sigma_i^2}$ is an unbiased estimate of the variance of $i$-th algorithm.\n",
    " * Now compute $\\frac{M_1-M_2}{D}$. If the real values of $\\sigma_i$ are equal, i.e. $\\sigma_1=\\sigma_2$, then it can be shown that this has a $t$-distribution with $2n-2$ degrees of freedom. \n",
    " * Use **scipy.stats.t.cdf** to compute the p-value and decide if we can reject the null hyphotesis of the means being equal. Note that in our case the probability of getting a difference \"at least as large as the one we got\" has to include deviations in both directions!"
   ]
  },
  {
   "cell_type": "code",
   "execution_count": 4,
   "metadata": {},
   "outputs": [],
   "source": [
    "import numpy as np\n",
    "data=np.array([ [98.67573, 100.77983, 101.35478,  98.50285,  99.14984, \n",
    "      100.64105,  98.37170, 100.24933, 99.54994, 100.79508, \n",
    "      101.14978, 101.32538, 100.44573, 97.60020, 97.78547,  \n",
    "      98.88703,  99.06794, 100.65313, 100.30297, 100.26311],\n",
    "       [99.96234, 99.94943, 99.58779, 100.52263, 101.58972,\n",
    "        101.78411, 100.09874, 100.99211, 101.93214, 100.61749,\n",
    "        100.46854,  99.19030, 101.28412, 100.70897, 99.83988,\n",
    "        100.24668,  99.38278,  99.82720,  97.55918, 100.63128]])"
   ]
  }
 ],
 "metadata": {
  "hide_input": false,
  "kernelspec": {
   "display_name": "Python 3 (ipykernel)",
   "language": "python",
   "name": "python3"
  },
  "language_info": {
   "codemirror_mode": {
    "name": "ipython",
    "version": 3
   },
   "file_extension": ".py",
   "mimetype": "text/x-python",
   "name": "python",
   "nbconvert_exporter": "python",
   "pygments_lexer": "ipython3",
   "version": "3.9.13"
  }
 },
 "nbformat": 4,
 "nbformat_minor": 1
}
